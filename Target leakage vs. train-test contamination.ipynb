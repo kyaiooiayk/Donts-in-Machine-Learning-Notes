{
 "cells": [
  {
   "cell_type": "markdown",
   "id": "bored-sound",
   "metadata": {},
   "source": [
    "# Introduction"
   ]
  },
  {
   "cell_type": "markdown",
   "id": "forty-mechanism",
   "metadata": {},
   "source": [
    "<div class=\"alert alert-block alert-warning\">\n",
    "<font color=black><br>\n",
    "\n",
    "**What?** Target leakage vs. train-test contamination\n",
    "\n",
    "<br></font>\n",
    "</div>"
   ]
  },
  {
   "cell_type": "markdown",
   "id": "legal-island",
   "metadata": {},
   "source": [
    "# Target leakage vs. train-test contamination"
   ]
  },
  {
   "cell_type": "markdown",
   "id": "subsequent-broadway",
   "metadata": {},
   "source": [
    "<div class=\"alert alert-block alert-info\">\n",
    "<font color=black><br>\n",
    "\n",
    "- Leakage happens when your training data contains information that will not be available when the model is used for prediction. \n",
    "- In other words, leakage causes (is highly likely) a model to look too accurate while training but inaccurate while deployed.\n",
    "- **Why highly likely?** Because sometimes it would not change a thing and people would not realise, that is why this comes down to implementing good practices.\n",
    "- There are two main types of leakage: \n",
    "    - Target leakage\n",
    "    - Train-test contamination\n",
    "\n",
    "<br></font>\n",
    "</div>"
   ]
  },
  {
   "cell_type": "markdown",
   "id": "artistic-scott",
   "metadata": {},
   "source": [
    "## Target leakage"
   ]
  },
  {
   "cell_type": "markdown",
   "id": "genuine-pencil",
   "metadata": {
    "papermill": {
     "duration": 0.008479,
     "end_time": "2021-06-03T16:35:57.010782",
     "exception": false,
     "start_time": "2021-06-03T16:35:57.002303",
     "status": "completed"
    },
    "tags": []
   },
   "source": [
    "<div class=\"alert alert-block alert-info\">\n",
    "<font color=black><br>\n",
    "    \n",
    "- Think of it in terms of the **timing** or **chronological order** that data becomes available, not merely whether a feature helps make good predictions.\n",
    "\n",
    "- Imagine you want to predict who will get sick with pneumonia. The top few rows of your raw data look like this:\n",
    "\n",
    "| got_pneumonia | age | weight |  male | took_antibiotic_medicine | ... |\n",
    "|:-------------:|:---:|:------:|:-----:|:------------------------:|-----|\n",
    "|     False     |  65 |   100  | False |           False          | ... |\n",
    "|     False     |  72 |   130  |  True |           False          | ... |\n",
    "|      True     |  58 |   100  | False |           True           | ... |\n",
    "\n",
    "- **Where is the catch?** People take antibiotic medicines *after* getting pneumonia in order to recover. The raw data shows a strong relationship between those columns, but `took_antibiotic_medicine` is frequently changed _after_ the value for `got_pneumonia` is determined. This is target leakage.\n",
    "\n",
    "- The model would see that anyone who has a value of `False` for `took_antibiotic_medicine` didn't have pneumonia. Since validation data comes from the same source as training data, the pattern will repeat itself in validation, and the model will have great validation (or cross-validation) scores. \n",
    "\n",
    "- But the model will be very inaccurate when subsequently deployed in the real world, because even patients who will get pneumonia won't have received antibiotics yet when we need to make predictions about their future health.\n",
    "\n",
    "- To prevent this any feature created/updated after the target value is recorded should be **excluded**. \n",
    "\n",
    "\n",
    "<br></font>\n",
    "</div>"
   ]
  },
  {
   "cell_type": "markdown",
   "id": "minor-sphere",
   "metadata": {},
   "source": [
    "![tut7_leakydata](https://i.imgur.com/y7hfTYe.png)"
   ]
  },
  {
   "cell_type": "markdown",
   "id": "interracial-examination",
   "metadata": {},
   "source": [
    "## Train-Test Contamination"
   ]
  },
  {
   "cell_type": "markdown",
   "id": "legendary-treasury",
   "metadata": {
    "papermill": {
     "duration": 0.007033,
     "end_time": "2021-06-03T16:35:57.025340",
     "exception": false,
     "start_time": "2021-06-03T16:35:57.018307",
     "status": "completed"
    },
    "tags": []
   },
   "source": [
    "<div class=\"alert alert-block alert-info\">\n",
    "<font color=black><br>\n",
    "    \n",
    "- A different type of leak occurs when you aren't careful to distinguish training data from validation data.  \n",
    "\n",
    "- Recall that validation is meant to be a measure of how the model does on data that it hasn't considered before.  You can corrupt this process in subtle ways if the validation data affects the preprocessing behavior.  This is sometimes called **train-test contamination**. \n",
    "\n",
    "- For example, imagine you run preprocessing (like fitting an imputer for missing values) before calling [`train_test_split()`](https://scikit-learn.org/stable/modules/generated/sklearn.model_selection.train_test_split.html).  The end result?  Your model may get good validation scores, giving you great confidence in it, but perform poorly when you deploy it to make decisions.\n",
    "\n",
    "- After all, you incorporated data from the validation or test data into how you make predictions, so the may do well on that particular data even if it can't generalize to new data. \n",
    "\n",
    "- **If your validation is based on a simple train-test split, exclude the validation data from any type of *fitting*, including** the fitting of preprocessing steps.\n",
    "\n",
    "<br></font>\n",
    "</div>"
   ]
  },
  {
   "cell_type": "markdown",
   "id": "alternate-diesel",
   "metadata": {},
   "source": [
    "# Import modules"
   ]
  },
  {
   "cell_type": "code",
   "execution_count": 3,
   "id": "foster-adventure",
   "metadata": {},
   "outputs": [],
   "source": [
    "import pandas as pd\n",
    "from sklearn.pipeline import make_pipeline\n",
    "from sklearn.ensemble import RandomForestClassifier\n",
    "from sklearn.model_selection import cross_val_score"
   ]
  },
  {
   "cell_type": "markdown",
   "id": "charged-connecticut",
   "metadata": {},
   "source": [
    "# Import dataset"
   ]
  },
  {
   "cell_type": "markdown",
   "id": "otherwise-reality",
   "metadata": {},
   "source": [
    "<div class=\"alert alert-block alert-info\">\n",
    "<font color=black><br>\n",
    "\n",
    "- In this example, you will learn one way to detect and remove target leakage.\n",
    "\n",
    "- We will use a dataset about credit card applications and skip the basic data set-up code.  \n",
    "- The end result is that information about each credit card application is stored in a DataFrame `X`.  \n",
    "- We'll use it to predict which applications were accepted in a Series `y`.\n",
    "- We'll use cross-validation to ensure accurate measures of model quality, **because** this is a small dataset\n",
    "\n",
    "<br></font>\n",
    "</div>"
   ]
  },
  {
   "cell_type": "code",
   "execution_count": 2,
   "id": "adolescent-plasma",
   "metadata": {
    "_kg_hide-input": true,
    "execution": {
     "iopub.execute_input": "2021-06-03T16:35:57.048938Z",
     "iopub.status.busy": "2021-06-03T16:35:57.047994Z",
     "iopub.status.idle": "2021-06-03T16:35:57.111266Z",
     "shell.execute_reply": "2021-06-03T16:35:57.110520Z"
    },
    "papermill": {
     "duration": 0.07875,
     "end_time": "2021-06-03T16:35:57.111425",
     "exception": false,
     "start_time": "2021-06-03T16:35:57.032675",
     "status": "completed"
    },
    "tags": []
   },
   "outputs": [
    {
     "name": "stdout",
     "output_type": "stream",
     "text": [
      "Number of rows in the dataset: 1319\n"
     ]
    },
    {
     "data": {
      "text/html": [
       "<div>\n",
       "<style scoped>\n",
       "    .dataframe tbody tr th:only-of-type {\n",
       "        vertical-align: middle;\n",
       "    }\n",
       "\n",
       "    .dataframe tbody tr th {\n",
       "        vertical-align: top;\n",
       "    }\n",
       "\n",
       "    .dataframe thead th {\n",
       "        text-align: right;\n",
       "    }\n",
       "</style>\n",
       "<table border=\"1\" class=\"dataframe\">\n",
       "  <thead>\n",
       "    <tr style=\"text-align: right;\">\n",
       "      <th></th>\n",
       "      <th>reports</th>\n",
       "      <th>age</th>\n",
       "      <th>income</th>\n",
       "      <th>share</th>\n",
       "      <th>expenditure</th>\n",
       "      <th>owner</th>\n",
       "      <th>selfemp</th>\n",
       "      <th>dependents</th>\n",
       "      <th>months</th>\n",
       "      <th>majorcards</th>\n",
       "      <th>active</th>\n",
       "    </tr>\n",
       "  </thead>\n",
       "  <tbody>\n",
       "    <tr>\n",
       "      <th>0</th>\n",
       "      <td>0</td>\n",
       "      <td>37.66667</td>\n",
       "      <td>4.5200</td>\n",
       "      <td>0.033270</td>\n",
       "      <td>124.983300</td>\n",
       "      <td>True</td>\n",
       "      <td>False</td>\n",
       "      <td>3</td>\n",
       "      <td>54</td>\n",
       "      <td>1</td>\n",
       "      <td>12</td>\n",
       "    </tr>\n",
       "    <tr>\n",
       "      <th>1</th>\n",
       "      <td>0</td>\n",
       "      <td>33.25000</td>\n",
       "      <td>2.4200</td>\n",
       "      <td>0.005217</td>\n",
       "      <td>9.854167</td>\n",
       "      <td>False</td>\n",
       "      <td>False</td>\n",
       "      <td>3</td>\n",
       "      <td>34</td>\n",
       "      <td>1</td>\n",
       "      <td>13</td>\n",
       "    </tr>\n",
       "    <tr>\n",
       "      <th>2</th>\n",
       "      <td>0</td>\n",
       "      <td>33.66667</td>\n",
       "      <td>4.5000</td>\n",
       "      <td>0.004156</td>\n",
       "      <td>15.000000</td>\n",
       "      <td>True</td>\n",
       "      <td>False</td>\n",
       "      <td>4</td>\n",
       "      <td>58</td>\n",
       "      <td>1</td>\n",
       "      <td>5</td>\n",
       "    </tr>\n",
       "    <tr>\n",
       "      <th>3</th>\n",
       "      <td>0</td>\n",
       "      <td>30.50000</td>\n",
       "      <td>2.5400</td>\n",
       "      <td>0.065214</td>\n",
       "      <td>137.869200</td>\n",
       "      <td>False</td>\n",
       "      <td>False</td>\n",
       "      <td>0</td>\n",
       "      <td>25</td>\n",
       "      <td>1</td>\n",
       "      <td>7</td>\n",
       "    </tr>\n",
       "    <tr>\n",
       "      <th>4</th>\n",
       "      <td>0</td>\n",
       "      <td>32.16667</td>\n",
       "      <td>9.7867</td>\n",
       "      <td>0.067051</td>\n",
       "      <td>546.503300</td>\n",
       "      <td>True</td>\n",
       "      <td>False</td>\n",
       "      <td>2</td>\n",
       "      <td>64</td>\n",
       "      <td>1</td>\n",
       "      <td>5</td>\n",
       "    </tr>\n",
       "  </tbody>\n",
       "</table>\n",
       "</div>"
      ],
      "text/plain": [
       "   reports       age  income     share  expenditure  owner  selfemp  \\\n",
       "0        0  37.66667  4.5200  0.033270   124.983300   True    False   \n",
       "1        0  33.25000  2.4200  0.005217     9.854167  False    False   \n",
       "2        0  33.66667  4.5000  0.004156    15.000000   True    False   \n",
       "3        0  30.50000  2.5400  0.065214   137.869200  False    False   \n",
       "4        0  32.16667  9.7867  0.067051   546.503300   True    False   \n",
       "\n",
       "   dependents  months  majorcards  active  \n",
       "0           3      54           1      12  \n",
       "1           3      34           1      13  \n",
       "2           4      58           1       5  \n",
       "3           0      25           1       7  \n",
       "4           2      64           1       5  "
      ]
     },
     "execution_count": 2,
     "metadata": {},
     "output_type": "execute_result"
    }
   ],
   "source": [
    "# Read the data\n",
    "data = pd.read_csv('../DATASETS/AER_credit_card_data.csv', \n",
    "                   true_values = ['yes'], false_values = ['no'])\n",
    "\n",
    "# Select target\n",
    "y = data.card\n",
    "\n",
    "# Select predictors\n",
    "X = data.drop(['card'], axis=1)\n",
    "\n",
    "print(\"Number of rows in the dataset:\", X.shape[0])\n",
    "X.head()"
   ]
  },
  {
   "cell_type": "code",
   "execution_count": 4,
   "id": "developing-victorian",
   "metadata": {
    "execution": {
     "iopub.execute_input": "2021-06-03T16:35:57.152220Z",
     "iopub.status.busy": "2021-06-03T16:35:57.151323Z",
     "iopub.status.idle": "2021-06-03T16:35:59.757510Z",
     "shell.execute_reply": "2021-06-03T16:35:59.756871Z"
    },
    "papermill": {
     "duration": 2.620378,
     "end_time": "2021-06-03T16:35:59.757659",
     "exception": false,
     "start_time": "2021-06-03T16:35:57.137281",
     "status": "completed"
    },
    "tags": []
   },
   "outputs": [
    {
     "name": "stdout",
     "output_type": "stream",
     "text": [
      "Cross-validation accuracy: 0.981049\n"
     ]
    }
   ],
   "source": [
    "# Since there is no preprocessing, we don't need a pipeline (used anyway as best practice!)\n",
    "my_pipeline = make_pipeline(RandomForestClassifier(n_estimators=100))\n",
    "cv_scores = cross_val_score(my_pipeline, X, y, \n",
    "                            cv=5,\n",
    "                            scoring='accuracy')\n",
    "\n",
    "print(\"Cross-validation accuracy: %f\" % cv_scores.mean())"
   ]
  },
  {
   "cell_type": "markdown",
   "id": "preliminary-return",
   "metadata": {
    "papermill": {
     "duration": 0.011851,
     "end_time": "2021-06-03T16:35:59.780782",
     "exception": false,
     "start_time": "2021-06-03T16:35:59.768931",
     "status": "completed"
    },
    "tags": []
   },
   "source": [
    "<div class=\"alert alert-block alert-info\">\n",
    "<font color=black><br>\n",
    "\n",
    "\n",
    "- **90% accuracy with zero effort! Sound suspicious?** Let's check if we are leaking any data.\n",
    "- We'll checl the feature names:\n",
    "<br/><br/>\n",
    "    - **`card`**: 1 if credit card application accepted, 0 if not\n",
    "    - **`reports`**: Number of major derogatory reports\n",
    "    - **`age`**: Age n years plus twelfths of a year\n",
    "    - **`income`**: Yearly income (divided by 10,000)\n",
    "    - **`share`**: Ratio of monthly credit card expenditure to yearly income\n",
    "    - **`expenditure`**: Average monthly credit card expenditure\n",
    "    - **`owner`**: 1 if owns home, 0 if rents\n",
    "    - **`selfempl`**: 1 if self-employed, 0 if not\n",
    "    - **`dependents`**: 1 + number of dependents\n",
    "    - **`months`**: Months living at current address\n",
    "    - **`majorcards`**: Number of major credit cards held\n",
    "    - **`active`**: Number of active credit accounts\n",
    "<br/><br/>\n",
    "- Does **`expenditure`** mean expenditure on this card or on cards used before appying? If after then we're leaking data when we should not.\n",
    "\n",
    "- What do we do now? We'll perform some checks:\n",
    "\n",
    "<br></font>\n",
    "</div>"
   ]
  },
  {
   "cell_type": "code",
   "execution_count": 7,
   "id": "convinced-annotation",
   "metadata": {
    "execution": {
     "iopub.execute_input": "2021-06-03T16:35:59.811845Z",
     "iopub.status.busy": "2021-06-03T16:35:59.810788Z",
     "iopub.status.idle": "2021-06-03T16:35:59.834312Z",
     "shell.execute_reply": "2021-06-03T16:35:59.835055Z"
    },
    "papermill": {
     "duration": 0.045217,
     "end_time": "2021-06-03T16:35:59.835304",
     "exception": false,
     "start_time": "2021-06-03T16:35:59.790087",
     "status": "completed"
    },
    "tags": []
   },
   "outputs": [
    {
     "name": "stdout",
     "output_type": "stream",
     "text": [
      "Fraction of those who did not receive a card and had no expenditures: 1.00\n",
      "Fraction of those who received a card and had no expenditures: 0.02\n"
     ]
    }
   ],
   "source": [
    "expenditures_cardholders = X.expenditure[y]\n",
    "expenditures_noncardholders = X.expenditure[~y]\n",
    "\n",
    "print('Fraction of those who did not receive a card and had no expenditures: %.2f' \\\n",
    "      %((expenditures_noncardholders == 0).mean()))\n",
    "print('Fraction of those who received a card and had no expenditures: %.2f' \\\n",
    "      %(( expenditures_cardholders == 0).mean()))"
   ]
  },
  {
   "cell_type": "markdown",
   "id": "recreational-rendering",
   "metadata": {
    "papermill": {
     "duration": 0.013527,
     "end_time": "2021-06-03T16:35:59.858642",
     "exception": false,
     "start_time": "2021-06-03T16:35:59.845115",
     "status": "completed"
    },
    "tags": []
   },
   "source": [
    "<div class=\"alert alert-block alert-info\">\n",
    "<font color=black><br>\n",
    "    \n",
    "- As shown above, everyone who did not receive a card had no expenditures, while only 2% of those who received a card had no expenditures. \n",
    "- It's not surprising that our model appeared to have a high accuracy. But this also seems to be a case of target leakage, where expenditures probably means *expenditures on the card they applied for*. \n",
    "\n",
    "- Since **`share`** is partially determined by **`expenditure`**, it should be excluded too. \n",
    "- The variables **`active`** and **`majorcards`** are a little less clear, but from the description, they sound concerning.  \n",
    "- In most situations, it's better to be safe than sorry if you can't track down the people who created the data to find out more.\n",
    "\n",
    "<br></font>\n",
    "</div>"
   ]
  },
  {
   "cell_type": "code",
   "execution_count": 6,
   "id": "hawaiian-young",
   "metadata": {
    "execution": {
     "iopub.execute_input": "2021-06-03T16:35:59.883419Z",
     "iopub.status.busy": "2021-06-03T16:35:59.882731Z",
     "iopub.status.idle": "2021-06-03T16:36:01.254387Z",
     "shell.execute_reply": "2021-06-03T16:36:01.253696Z"
    },
    "papermill": {
     "duration": 1.383562,
     "end_time": "2021-06-03T16:36:01.254537",
     "exception": false,
     "start_time": "2021-06-03T16:35:59.870975",
     "status": "completed"
    },
    "tags": []
   },
   "outputs": [
    {
     "name": "stdout",
     "output_type": "stream",
     "text": [
      "Cross-val accuracy: 0.835474\n"
     ]
    }
   ],
   "source": [
    "# Drop leaky predictors from dataset\n",
    "potential_leaks = ['expenditure', 'share', 'active', 'majorcards']\n",
    "X2 = X.drop(potential_leaks, axis=1)\n",
    "\n",
    "# Evaluate the model with leaky predictors removed\n",
    "cv_scores = cross_val_score(my_pipeline, X2, y, \n",
    "                            cv=5,\n",
    "                            scoring='accuracy')\n",
    "\n",
    "print(\"Cross-val accuracy: %f\" % cv_scores.mean())"
   ]
  },
  {
   "cell_type": "markdown",
   "id": "rational-tuning",
   "metadata": {},
   "source": [
    "<div class=\"alert alert-block alert-info\">\n",
    "<font color=black><br>\n",
    "\n",
    "- This accuracy is quite a bit lower, which might be disappointing. \n",
    "- However, we can expect it to be right about 80% of the time when used on new applications, whereas the leaky model would likely do much worse than that (in spite of its higher apparent score in cross-validation).\n",
    "\n",
    "<br></font>\n",
    "</div>"
   ]
  },
  {
   "cell_type": "markdown",
   "id": "greenhouse-collapse",
   "metadata": {},
   "source": [
    "# References"
   ]
  },
  {
   "cell_type": "markdown",
   "id": "optimum-method",
   "metadata": {},
   "source": [
    "<div class=\"alert alert-block alert-warning\">\n",
    "<font color=black><br>\n",
    "\n",
    "- https://www.kaggle.com/alexisbcook/data-leakage\n",
    "\n",
    "<br></font>\n",
    "</div>"
   ]
  },
  {
   "cell_type": "markdown",
   "id": "major-hungary",
   "metadata": {},
   "source": [
    "# Conclusions"
   ]
  },
  {
   "cell_type": "markdown",
   "id": "necessary-plain",
   "metadata": {},
   "source": [
    "<div class=\"alert alert-block alert-danger\">\n",
    "<font color=black><br>\n",
    "\n",
    "- Data leakage can be multi-million dollar mistake in many data science applications. \n",
    "- Careful separation of training and validation data can prevent train-test contamination, and pipelines can help implement this separation. \n",
    "- Likewise, a combination of caution, common sense, and data exploration can help identify target leakage.\n",
    "\n",
    "<br></font>\n",
    "</div>"
   ]
  },
  {
   "cell_type": "code",
   "execution_count": null,
   "id": "frank-profile",
   "metadata": {},
   "outputs": [],
   "source": []
  }
 ],
 "metadata": {
  "hide_input": false,
  "kernelspec": {
   "display_name": "Python 3",
   "language": "python",
   "name": "python3"
  },
  "language_info": {
   "codemirror_mode": {
    "name": "ipython",
    "version": 3
   },
   "file_extension": ".py",
   "mimetype": "text/x-python",
   "name": "python",
   "nbconvert_exporter": "python",
   "pygments_lexer": "ipython3",
   "version": "3.8.5"
  },
  "papermill": {
   "default_parameters": {},
   "duration": 11.482122,
   "end_time": "2021-06-03T16:36:01.915325",
   "environment_variables": {},
   "exception": null,
   "input_path": "__notebook__.ipynb",
   "output_path": "__notebook__.ipynb",
   "parameters": {},
   "start_time": "2021-06-03T16:35:50.433203",
   "version": "2.3.2"
  }
 },
 "nbformat": 4,
 "nbformat_minor": 5
}
